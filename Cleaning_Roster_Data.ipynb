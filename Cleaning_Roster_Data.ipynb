{
 "cells": [
  {
   "cell_type": "code",
   "execution_count": 31,
   "id": "ea87fc9f-41ae-4cec-be1d-de4852b801ca",
   "metadata": {},
   "outputs": [
    {
     "name": "stdout",
     "output_type": "stream",
     "text": [
      "             Name      ID  Year  Height  Hand Size  Wingspan  Foot Size  \\\n",
      "0  Aaron Williams  7723.0  2025  6003.0       9.00     75.75        NaN   \n",
      "1     AJ Fuimaono  2467.0  2025  6027.0      10.00     77.50        NaN   \n",
      "2  Alani Makihele  5671.0  2025  6034.0      10.20     77.00        NaN   \n",
      "3    Andre Jordan  7719.0  2025  6011.0       9.50     77.75        NaN   \n",
      "4   Anthony Frias  5890.0  2025  5097.0       9.25     72.50        NaN   \n",
      "\n",
      "   Waist  Neck  Shoulder Width  Quad  Bicep  \n",
      "0    NaN   NaN             NaN   NaN    NaN  \n",
      "1    NaN   NaN             NaN   NaN    NaN  \n",
      "2    NaN   NaN             NaN   NaN    NaN  \n",
      "3    NaN   NaN             NaN   NaN    NaN  \n",
      "4    NaN   NaN             NaN   NaN    NaN  \n",
      "             Name Position   Group    ID\n",
      "0  Aaron Williams       DB  SKILLS  7723\n",
      "1     AJ Fuimaono       DL    BIGS  2467\n",
      "2  Alani Makihele       OL    BIGS  5671\n",
      "3    Andre Jordan       DB  SKILLS  7719\n",
      "4   Anthony Frias       RB    MIDS  5890\n"
     ]
    }
   ],
   "source": [
    "import pandas as pd\n",
    "\n",
    "df_stats = pd.read_excel('ANTHRO.xlsx', sheet_name = \"Sheet1\")\n",
    "print(df_stats.head())\n",
    "\n",
    "df_position = pd.read_excel('ANTHRO.xlsx', sheet_name = \"Control_Panel\")\n",
    "print(df_position.head())\n"
   ]
  },
  {
   "cell_type": "code",
   "execution_count": 32,
   "id": "f376ef15-d849-47a1-8991-1a45d3674d37",
   "metadata": {},
   "outputs": [
    {
     "name": "stdout",
     "output_type": "stream",
     "text": [
      "             Name      ID  Height  Hand Size  Wingspan\n",
      "0  Aaron Williams  7723.0  6003.0       9.00     75.75\n",
      "1     AJ Fuimaono  2467.0  6027.0      10.00     77.50\n",
      "2  Alani Makihele  5671.0  6034.0      10.20     77.00\n",
      "3    Andre Jordan  7719.0  6011.0       9.50     77.75\n",
      "4   Anthony Frias  5890.0  5097.0       9.25     72.50\n",
      "(94, 5)\n",
      "             Name Position   Group    ID\n",
      "0  Aaron Williams       DB  SKILLS  7723\n",
      "1     AJ Fuimaono       DL    BIGS  2467\n",
      "2  Alani Makihele       OL    BIGS  5671\n",
      "3    Andre Jordan       DB  SKILLS  7719\n",
      "4   Anthony Frias       RB    MIDS  5890\n",
      "(151, 4)\n"
     ]
    }
   ],
   "source": [
    "df_stats = df_stats[[\"Name\",\"ID\",\"Height\",\"Hand Size\",\"Wingspan\"]].dropna(how='all')\n",
    "print(df_stats.head())\n",
    "print(df_stats.shape)\n",
    "\n",
    "\n",
    "df_position = df_position.dropna(subset=[\"Position\", \"Group\"])\n",
    "print(df_position.head())\n",
    "print(df_position.shape)\n"
   ]
  },
  {
   "cell_type": "markdown",
   "id": "7a1d2433-5c67-4509-86dc-05bbd80082e6",
   "metadata": {},
   "source": [
    "#### Merging datasets"
   ]
  },
  {
   "cell_type": "code",
   "execution_count": 35,
   "id": "3fe78ddf-9c8e-4bc8-b31b-f6dbade166d5",
   "metadata": {},
   "outputs": [
    {
     "name": "stdout",
     "output_type": "stream",
     "text": [
      "             Name Position   Group    ID  Height  Hand Size  Wingspan\n",
      "0  Aaron Williams       DB  SKILLS  7723  6003.0       9.00     75.75\n",
      "1     AJ Fuimaono       DL    BIGS  2467  6027.0      10.00     77.50\n",
      "2  Alani Makihele       OL    BIGS  5671  6034.0      10.20     77.00\n",
      "3    Andre Jordan       DB  SKILLS  7719  6011.0       9.50     77.75\n",
      "4   Anthony Frias       RB    MIDS  5890  5097.0       9.25     72.50\n",
      "(93, 7)\n"
     ]
    }
   ],
   "source": [
    "total_df = df_position.merge(df_stats, on = [\"ID\",\"Name\"])\n",
    "print(total_df.head())\n",
    "print(total_df.shape)"
   ]
  }
 ],
 "metadata": {
  "kernelspec": {
   "display_name": "Python 3 (ipykernel)",
   "language": "python",
   "name": "python3"
  },
  "language_info": {
   "codemirror_mode": {
    "name": "ipython",
    "version": 3
   },
   "file_extension": ".py",
   "mimetype": "text/x-python",
   "name": "python",
   "nbconvert_exporter": "python",
   "pygments_lexer": "ipython3",
   "version": "3.12.4"
  }
 },
 "nbformat": 4,
 "nbformat_minor": 5
}
